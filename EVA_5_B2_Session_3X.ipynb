{
  "nbformat": 4,
  "nbformat_minor": 0,
  "metadata": {
    "colab": {
      "name": "EVA_5_B2_Session_3X.ipynb",
      "provenance": [],
      "authorship_tag": "ABX9TyO88P5mb9lTsLYtplOVdM3I",
      "include_colab_link": true
    },
    "kernelspec": {
      "name": "python3",
      "display_name": "Python 3"
    },
    "accelerator": "GPU"
  },
  "cells": [
    {
      "cell_type": "markdown",
      "metadata": {
        "id": "view-in-github",
        "colab_type": "text"
      },
      "source": [
        "<a href=\"https://colab.research.google.com/github/abishek-raju/EVA4B2/blob/branch1/EVA_5_B2_Session_3X.ipynb\" target=\"_parent\"><img src=\"https://colab.research.google.com/assets/colab-badge.svg\" alt=\"Open In Colab\"/></a>"
      ]
    },
    {
      "cell_type": "markdown",
      "metadata": {
        "id": "Q377tmFcXQ_-"
      },
      "source": [
        "Dataset Prep"
      ]
    },
    {
      "cell_type": "code",
      "metadata": {
        "id": "BPyzGEt8eJAi"
      },
      "source": [
        "import torch\n",
        "import torchvision # provide access to datasets, models, transforms, utils, etc\n",
        "import torchvision.transforms as transforms"
      ],
      "execution_count": 1,
      "outputs": []
    },
    {
      "cell_type": "code",
      "metadata": {
        "colab": {
          "base_uri": "https://localhost:8080/"
        },
        "id": "D2RKl2Agd6Au",
        "outputId": "6095dbcf-9991-4972-fee2-1417d1f6296e"
      },
      "source": [
        "train_set = torchvision.datasets.EMNIST(\n",
        "    root='./data'\n",
        "    ,train=True\n",
        "    ,download=True\n",
        "    ,split = \"byclass\"\n",
        "    ,transform=transforms.Compose([\n",
        "        transforms.ToTensor()\n",
        "    ])\n",
        ")\n",
        "\n",
        "test_set = torchvision.datasets.EMNIST(\n",
        "    root='./data'\n",
        "    ,train=False\n",
        "    ,download=True\n",
        "    ,split = \"byclass\"\n",
        "    ,transform=transforms.Compose([\n",
        "        transforms.ToTensor()\n",
        "    ])\n",
        ")"
      ],
      "execution_count": 2,
      "outputs": [
        {
          "output_type": "stream",
          "text": [
            "Downloading and extracting zip archive\n",
            "Using downloaded and verified file: ./data/EMNIST/raw/emnist.zip\n",
            "Extracting ./data/EMNIST/raw/emnist.zip to ./data/EMNIST/raw\n",
            "Processing byclass\n"
          ],
          "name": "stdout"
        },
        {
          "output_type": "stream",
          "text": [
            "/usr/local/lib/python3.6/dist-packages/torchvision/datasets/mnist.py:480: UserWarning: The given NumPy array is not writeable, and PyTorch does not support non-writeable tensors. This means you can write to the underlying (supposedly non-writeable) NumPy array using the tensor. You may want to copy the array to protect its data or make it writeable before converting it to a tensor. This type of warning will be suppressed for the rest of this program. (Triggered internally at  /pytorch/torch/csrc/utils/tensor_numpy.cpp:141.)\n",
            "  return torch.from_numpy(parsed.astype(m[2], copy=False)).view(*s)\n"
          ],
          "name": "stderr"
        },
        {
          "output_type": "stream",
          "text": [
            "Processing bymerge\n",
            "Processing balanced\n",
            "Processing letters\n",
            "Processing digits\n",
            "Processing mnist\n",
            "Done!\n"
          ],
          "name": "stdout"
        }
      ]
    },
    {
      "cell_type": "markdown",
      "metadata": {
        "id": "mAQs6WA0evip"
      },
      "source": [
        "Basic EDA"
      ]
    },
    {
      "cell_type": "code",
      "metadata": {
        "colab": {
          "base_uri": "https://localhost:8080/"
        },
        "id": "KrdmlZu5ep8H",
        "outputId": "5d1daad2-fe95-4b84-d98a-54a56c833334"
      },
      "source": [
        "# len(train_set.data)\n",
        "len(train_set.targets)"
      ],
      "execution_count": 3,
      "outputs": [
        {
          "output_type": "execute_result",
          "data": {
            "text/plain": [
              "697932"
            ]
          },
          "metadata": {
            "tags": []
          },
          "execution_count": 3
        }
      ]
    },
    {
      "cell_type": "code",
      "metadata": {
        "id": "43R6_CpFf4Ju"
      },
      "source": [
        "import numpy as np\n",
        "import matplotlib.pyplot as plt"
      ],
      "execution_count": 4,
      "outputs": []
    },
    {
      "cell_type": "code",
      "metadata": {
        "colab": {
          "base_uri": "https://localhost:8080/",
          "height": 282
        },
        "id": "lvf4ZZSDgXLU",
        "outputId": "d780e6b5-3265-4331-8931-7dbe97271441"
      },
      "source": [
        "sample = next(iter(train_set))\n",
        "image , label = sample\n",
        "plt.imshow(image.squeeze(), cmap='gray')\n",
        "print('label:', label)\n"
      ],
      "execution_count": 5,
      "outputs": [
        {
          "output_type": "stream",
          "text": [
            "label: 35\n"
          ],
          "name": "stdout"
        },
        {
          "output_type": "display_data",
          "data": {
            "image/png": "[encoded data removed]",
            "text/plain": [
              "<Figure size 432x288 with 1 Axes>"
            ]
          },
          "metadata": {
            "tags": [],
            "needs_background": "light"
          }
        }
      ]
    },
    {
      "cell_type": "markdown",
      "metadata": {
        "id": "xPQWha76hDNt"
      },
      "source": [
        "Batch Loader"
      ]
    },
    {
      "cell_type": "code",
      "metadata": {
        "id": "pfT022E0hCXr"
      },
      "source": [
        "train_loader = torch.utils.data.DataLoader(train_set\n",
        "    ,batch_size=10\n",
        "    ,shuffle=True\n",
        ")\n",
        "\n",
        "test_loader = torch.utils.data.DataLoader(test_set\n",
        "    ,batch_size=10\n",
        "    ,shuffle=True\n",
        ")"
      ],
      "execution_count": 6,
      "outputs": []
    },
    {
      "cell_type": "code",
      "metadata": {
        "id": "6eWf7HPDhOgf"
      },
      "source": [
        "sample = next(iter(train_loader))\n",
        "images, labels = sample"
      ],
      "execution_count": 7,
      "outputs": []
    },
    {
      "cell_type": "code",
      "metadata": {
        "colab": {
          "base_uri": "https://localhost:8080/",
          "height": 408
        },
        "id": "iKwMccq_gM1S",
        "outputId": "78852a1d-5085-4c29-e2e0-484d9c6de3b9"
      },
      "source": [
        "grid = torchvision.utils.make_grid(images, nrow=5)\n",
        "plt.figure(figsize=(15,15))\n",
        "plt.imshow(np.transpose(grid, (1,2,0)))\n",
        "print('labels:', labels)"
      ],
      "execution_count": 8,
      "outputs": [
        {
          "output_type": "stream",
          "text": [
            "labels: tensor([54, 15, 28,  2,  8,  4, 24,  4,  8, 20])\n"
          ],
          "name": "stdout"
        },
        {
          "output_type": "display_data",
          "data": {
            "image/png": "[encoded data removed]",
            "text/plain": [
              "<Figure size 1080x1080 with 1 Axes>"
            ]
          },
          "metadata": {
            "tags": [],
            "needs_background": "light"
          }
        }
      ]
    },
    {
      "cell_type": "markdown",
      "metadata": {
        "id": "F_r0fdxEh1bD"
      },
      "source": [
        "Building a network<br>\n",
        "torch.nn.Conv2d(in_channels: int, out_channels: int, kernel_size: Union[T, Tuple[T, T]], stride: Union[T, Tuple[T, T]] = 1, padding: Union[T, Tuple[T, T]] = 0, dilation: Union[T, Tuple[T, T]] = 1, groups: int = 1, bias: bool = True, padding_mode: str = 'zeros')<br>\n",
        "<br>\n",
        "<br>\n",
        "6 Convolution layers with these kernels (10, 10, 20, 20, 30)<br>\n",
        "no fully connected layer (you probably may have to use the Global Average Pooling layer)<br>\n",
        "uses EMNIST as the dataset<br>\n",
        "uses a maximum of 2 max-pooling layers"
      ]
    },
    {
      "cell_type": "code",
      "metadata": {
        "id": "RuLXE5pQh4ET"
      },
      "source": [
        "import torch.nn as nn\n",
        "import torch.nn.functional as F"
      ],
      "execution_count": 9,
      "outputs": []
    },
    {
      "cell_type": "code",
      "metadata": {
        "id": "kxY53Izah_VR"
      },
      "source": [
        "class ELIMENTARY(nn.Module):\n",
        "  def __init__(self):\n",
        "    super().__init__()\n",
        "    self.conv2d_1 = nn.Conv2d(in_channels = 1,\n",
        "                              out_channels = 10,\n",
        "                              kernel_size = 3)\n",
        "    self.conv2d_2 = nn.Conv2d(in_channels = 10,\n",
        "                              out_channels = 10,\n",
        "                              kernel_size = 3)\n",
        "    self.conv2d_3 = nn.Conv2d(in_channels = 10,\n",
        "                              out_channels = 20,\n",
        "                              kernel_size = 3)\n",
        "    self.conv2d_4 = nn.Conv2d(in_channels = 20,\n",
        "                              out_channels = 20,\n",
        "                              kernel_size = 3)\n",
        "    self.conv2d_5 = nn.Conv2d(in_channels = 20,\n",
        "                              out_channels = 30,\n",
        "                              kernel_size = 3)\n",
        "    self.conv2d_6 = nn.Conv2d(in_channels = 30,\n",
        "                              out_channels = 62,#classes\n",
        "                              kernel_size = 3)\n",
        "    \n",
        "  def forward(self,t):\n",
        "    # where t is the input layer------------------------------Input Layer------1 x 28 x28\n",
        "    t = t\n",
        "\n",
        "    # hidden conv layer---------------------------------------1st Hidden Layer-INPUT- 1 x 28 x 28\n",
        "    t = self.conv2d_1(t)                                                     #OUTPUT-10 x 26 x 26\n",
        "    t = F.relu(t)                                                            #    RF-3\n",
        "\n",
        "    # hidden conv layer---------------------------------------2nd Hidden Layer-INPUT-10 x 26 x 26\n",
        "    t = self.conv2d_2(t)                                                     #OUTPUT-10 x 24 x 24\n",
        "    t = F.relu(t)                                                            #    RF-5\n",
        "\n",
        "    # hidden conv layer---------------------------------------3rd Hidden Layer-INPUT-10 x 24 x 24\n",
        "    t = self.conv2d_3(t)                                                     #OUTPUT-20 x 22 x 22\n",
        "    t = F.relu(t)                                                            #    RF-7\n",
        "\n",
        "\n",
        "    # hidden conv layer---------------------------------------4th Hidden Layer-INPUT-20 x 22 x 22\n",
        "    t = self.conv2d_4(t)                                                     #OUTPUT-20 x 20 x 20\n",
        "    t = F.relu(t)                                                            #    RF-9\n",
        "\n",
        "    # Max pooling\n",
        "    t = F.max_pool2d(t, kernel_size=2, stride=2)                             #    RF-10\n",
        "\n",
        "    # hidden conv layer---------------------------------------5th Hidden Layer-INPUT-20 x 10 x 10\n",
        "    t = self.conv2d_5(t)                                                     #OUTPUT-30 x 8 x 8\n",
        "    t = F.relu(t)                                                            #    RF-14\n",
        "\n",
        "    # hidden conv layer---------------------------------------6th Hidden Layer-INPUT-10 x 22 x 22\n",
        "    t = self.conv2d_6(t)                                                     #OUTPUT-10 x 20x 20\n",
        "    t = F.relu(t)                                                            #    RF-16\n",
        "\n",
        "\n",
        "    t = F.adaptive_avg_pool2d(t, (1, 1))#--------------------------------------------1,62,1,1\n",
        "    t = F.softmax(t, dim=1)\n",
        "\n",
        "    return t.squeeze()"
      ],
      "execution_count": 10,
      "outputs": []
    },
    {
      "cell_type": "code",
      "metadata": {
        "colab": {
          "base_uri": "https://localhost:8080/"
        },
        "id": "oUFWgTk60Xev",
        "outputId": "299e0b10-d933-420b-c9c3-8664c0729ff3"
      },
      "source": [
        "torch.set_grad_enabled(True)"
      ],
      "execution_count": 11,
      "outputs": [
        {
          "output_type": "execute_result",
          "data": {
            "text/plain": [
              "<torch.autograd.grad_mode.set_grad_enabled at 0x7f9c657f5978>"
            ]
          },
          "metadata": {
            "tags": []
          },
          "execution_count": 11
        }
      ]
    },
    {
      "cell_type": "code",
      "metadata": {
        "id": "ZgmmvOG3nCWV"
      },
      "source": [
        "network = ELIMENTARY()\n",
        "pred = network(image.unsqueeze(0)) # image shape needs to be (batch_size × in_channels × H × W)"
      ],
      "execution_count": 12,
      "outputs": []
    },
    {
      "cell_type": "code",
      "metadata": {
        "colab": {
          "base_uri": "https://localhost:8080/"
        },
        "id": "LFj-zBH3nK85",
        "outputId": "0b8a4b17-7891-416d-a231-f3fe8a17d08a"
      },
      "source": [
        "pred"
      ],
      "execution_count": 13,
      "outputs": [
        {
          "output_type": "execute_result",
          "data": {
            "text/plain": [
              "tensor([0.0159, 0.0159, 0.0159, 0.0162, 0.0166, 0.0159, 0.0159, 0.0164, 0.0159,\n",
              "        0.0166, 0.0159, 0.0159, 0.0164, 0.0162, 0.0159, 0.0162, 0.0159, 0.0169,\n",
              "        0.0159, 0.0166, 0.0159, 0.0159, 0.0161, 0.0159, 0.0168, 0.0159, 0.0159,\n",
              "        0.0159, 0.0159, 0.0159, 0.0159, 0.0159, 0.0167, 0.0159, 0.0160, 0.0160,\n",
              "        0.0159, 0.0175, 0.0176, 0.0159, 0.0170, 0.0169, 0.0160, 0.0159, 0.0159,\n",
              "        0.0159, 0.0159, 0.0159, 0.0159, 0.0159, 0.0159, 0.0170, 0.0159, 0.0159,\n",
              "        0.0159, 0.0159, 0.0159, 0.0160, 0.0165, 0.0159, 0.0159, 0.0159],\n",
              "       grad_fn=<SqueezeBackward0>)"
            ]
          },
          "metadata": {
            "tags": []
          },
          "execution_count": 13
        }
      ]
    },
    {
      "cell_type": "code",
      "metadata": {
        "id": "O_f4bXJtuB8O"
      },
      "source": [
        "import torch.optim as optim"
      ],
      "execution_count": 14,
      "outputs": []
    },
    {
      "cell_type": "code",
      "metadata": {
        "id": "na6qMX0mwRvQ"
      },
      "source": [
        "def get_num_correct(preds, labels):\n",
        "  return preds.argmax(dim=1).eq(labels).sum().item()"
      ],
      "execution_count": 15,
      "outputs": []
    },
    {
      "cell_type": "code",
      "metadata": {
        "colab": {
          "base_uri": "https://localhost:8080/"
        },
        "id": "nL3TSzw9zqO8",
        "outputId": "c1cc4aed-21bd-4916-cf6f-c0e678ae864d"
      },
      "source": [
        "device = torch.device('cuda' if torch.cuda.is_available() else 'cpu')\n",
        "device"
      ],
      "execution_count": 16,
      "outputs": [
        {
          "output_type": "execute_result",
          "data": {
            "text/plain": [
              "device(type='cuda')"
            ]
          },
          "metadata": {
            "tags": []
          },
          "execution_count": 16
        }
      ]
    },
    {
      "cell_type": "code",
      "metadata": {
        "colab": {
          "base_uri": "https://localhost:8080/"
        },
        "id": "jg_s1pCSwDSb",
        "outputId": "e38b64af-7848-4b54-f0af-8ce64a35b992"
      },
      "source": [
        "network = ELIMENTARY()\n",
        "network.to(device)\n",
        "\n",
        "train_loader = torch.utils.data.DataLoader(train_set, batch_size=100)\n",
        "optimizer = optim.Adam(network.parameters(), lr=0.001)\n",
        "\n",
        "loss_logs = []\n",
        "total_correct_logs = []\n",
        "accuracy_logs = []\n",
        "\n",
        "for epoch in range(21):\n",
        "  total_loss = 0\n",
        "  total_correct = 0\n",
        "  for batch in train_loader: # Get Batch\n",
        "      images, labels = batch \n",
        "      images, labels = images.to(device), labels.to(device)\n",
        "\n",
        "      preds = network(images) # Pass Batch\n",
        "      loss = F.cross_entropy(preds, labels) # Calculate Loss\n",
        "\n",
        "      optimizer.zero_grad()\n",
        "      loss.backward() # Calculate Gradients\n",
        "      optimizer.step() # Update Weights\n",
        "\n",
        "      total_loss += loss.item()\n",
        "      total_correct += get_num_correct(preds, labels)\n",
        "\n",
        "  print(\n",
        "      \"epoch:\", epoch, \n",
        "      \"total_correct:\", total_correct, \n",
        "      \"loss:\", total_loss,\n",
        "      \"Accuracy:\",total_correct/len(train_set)\n",
        "  )\n",
        "  loss_logs.append(total_loss)\n",
        "  total_correct_logs.append(total_correct)\n",
        "  accuracy_logs.append(total_correct/len(train_set))"
      ],
      "execution_count": 22,
      "outputs": [
        {
          "output_type": "stream",
          "text": [
            "epoch: 0 total_correct: 201916 loss: 26978.699825048447 Accuracy: 0.2893061215132706\n",
            "epoch: 1 total_correct: 237106 loss: 26624.25921034813 Accuracy: 0.3397265063072047\n",
            "epoch: 2 total_correct: 243596 loss: 26558.275543928146 Accuracy: 0.3490254064865918\n",
            "epoch: 3 total_correct: 260703 loss: 26387.27057337761 Accuracy: 0.37353639036467734\n",
            "epoch: 4 total_correct: 298141 loss: 26014.740111351013 Accuracy: 0.4271777193193606\n",
            "epoch: 5 total_correct: 298682 loss: 26009.22577548027 Accuracy: 0.42795286646836656\n",
            "epoch: 6 total_correct: 299049 loss: 26005.865644216537 Accuracy: 0.42847870566186963\n",
            "epoch: 7 total_correct: 299181 loss: 26004.471890687943 Accuracy: 0.4286678358350097\n",
            "epoch: 8 total_correct: 299349 loss: 26002.779321432114 Accuracy: 0.42890854696446074\n",
            "epoch: 9 total_correct: 299602 loss: 26000.691295146942 Accuracy: 0.4292710464629792\n",
            "epoch: 10 total_correct: 299451 loss: 26001.85801243782 Accuracy: 0.42905469300734167\n",
            "epoch: 11 total_correct: 299592 loss: 26000.840885162354 Accuracy: 0.4292567184195595\n",
            "epoch: 12 total_correct: 299731 loss: 25999.55991578102 Accuracy: 0.4294558782230934\n",
            "epoch: 13 total_correct: 299721 loss: 25999.887598991394 Accuracy: 0.42944155017967367\n",
            "epoch: 14 total_correct: 299600 loss: 26001.162968158722 Accuracy: 0.42926818085429524\n",
            "epoch: 15 total_correct: 299478 loss: 26002.440653562546 Accuracy: 0.42909337872457487\n",
            "epoch: 16 total_correct: 299192 loss: 26005.142779111862 Accuracy: 0.4286835966827714\n",
            "epoch: 17 total_correct: 299697 loss: 26000.395570516586 Accuracy: 0.4294071628754664\n",
            "epoch: 18 total_correct: 299472 loss: 26002.660338640213 Accuracy: 0.42908478189852306\n",
            "epoch: 19 total_correct: 298988 loss: 26007.7266330719 Accuracy: 0.42839130459700947\n",
            "epoch: 20 total_correct: 298787 loss: 26009.7527217865 Accuracy: 0.42810331092427345\n"
          ],
          "name": "stdout"
        }
      ]
    }
  ]
}